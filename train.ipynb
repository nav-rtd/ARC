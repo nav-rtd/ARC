{
 "cells": [
  {
   "cell_type": "code",
   "execution_count": 17,
   "metadata": {},
   "outputs": [],
   "source": [
    "import json\n",
    "from abc import ABC, abstractmethod\n",
    "import numpy as np\n",
    "from termcolor import colored\n",
    "from tqdm.auto import tqdm\n",
    "import matplotlib.pyplot as plt\n",
    "import matplotlib as mpl\n",
    "from matplotlib import colors\n",
    "\n",
    "from typing import Optional\n",
    "from itertools import product, islice, permutations, chain\n",
    "\n",
    "import torch\n",
    "from transformers import AutoModelForCausalLM, AutoTokenizer, TrainingArguments, pipeline\n",
    "from peft import LoraConfig, PeftModel, prepare_model_for_kbit_training\n",
    "from trl import SFTTrainer, DataCollatorForCompletionOnlyLM\n",
    "from datasets import Dataset\n",
    "import os\n",
    "import random"
   ]
  },
  {
   "cell_type": "code",
   "execution_count": 2,
   "metadata": {},
   "outputs": [],
   "source": [
    "class cfg:\n",
    "    model_path = \"/teamspace/studios/this_studio/mtl_assignment2_4/saved_models/Qwen2.5-0.5B-Instruct\"\n",
    "    adapter_path =None\n",
    "    train_dataset = \"/teamspace/studios/this_studio/mtl_assignment2_4/data/arc_data/arc-agi_training_challenges.json\"\n",
    "    # train_dataset = '/mnt/hdd0/Kaggle/arc24/data/rearc/re_arc_100.json'\n",
    "    val_dataset = \"/teamspace/studios/this_studio/mtl_assignment2_4/data/arc_data/arc-agi_evaluation_challenges.json\"\n",
    "    output_dir = './'\n",
    "    max_seq_len = 4096\n",
    "    epochs = 50\n",
    "    max_steps : Optional[int] =  100000# If given it will override epochs\n",
    "    eval_steps = 100\n",
    "    warmup_ratio = 0.1\n",
    "    learning_rate = 5e-5\n",
    "    # LoRA\n",
    "    use_rslora = True,\n",
    "    use_dora = True,\n",
    "    lora_r = 32\n",
    "    # data augmentation\n",
    "    use_data_augmentation = True  #note that data augmentations have been set to false\n",
    "    max_train_permutations = 2 # typically 2\n",
    "    color_swaps = 1\n",
    "    preserve_original_colors = False\n",
    "    geometric_transforms = 2 # 0-8\n",
    "    swap_train_and_test = True\n",
    "    repeat_prompts = False # if bigger than 0 it will repeat the prompts that many times"
   ]
  },
  {
   "cell_type": "code",
   "execution_count": 3,
   "metadata": {},
   "outputs": [],
   "source": [
    "if 'qwen' in cfg.model_path.lower():\n",
    "    device_map = {\n",
    "        'model.embed_tokens': 0,\n",
    "        'lm_head': 0,\n",
    "        'model.layers.0': 0,\n",
    "        'model.layers.1': 0,\n",
    "        'model.layers.2': 0,\n",
    "        'model.layers.3': 0,\n",
    "        'model.layers.4': 0,\n",
    "        'model.layers.5': 0,\n",
    "        'model.layers.6': 0,\n",
    "        'model.layers.7': 0,\n",
    "        'model.layers.8': 0,\n",
    "        'model.layers.9': 0,\n",
    "        'model.layers.10': 0,\n",
    "        'model.layers.11': 0,\n",
    "        'model.layers.12': 0,\n",
    "        'model.layers.13': 0,\n",
    "        'model.layers.14': 0,\n",
    "        'model.layers.15': 0,\n",
    "        'model.layers.16': 0,\n",
    "        'model.layers.17': 0,\n",
    "        'model.layers.18': 0,\n",
    "        'model.layers.19': 0,\n",
    "        'model.layers.20': 0,\n",
    "        'model.layers.21': 0,\n",
    "        'model.layers.22': 0,\n",
    "        'model.layers.23': 0,\n",
    "        'model.norm': 0,\n",
    "        'model.rotary_emb': 0,\n",
    "    }\n",
    "else:\n",
    "    device_map = 'balanced'"
   ]
  },
  {
   "cell_type": "code",
   "execution_count": 4,
   "metadata": {},
   "outputs": [],
   "source": [
    "\n",
    "def get_flash_attention_implementation():\n",
    "    try:\n",
    "        import flash_attn\n",
    "        attn_implementation = \"flash_attention_2\"\n",
    "    except ImportError:\n",
    "        attn_implementation = None\n",
    "    return attn_implementation\n",
    "\n",
    "#INSTANTIATE MODEL\n",
    "model = AutoModelForCausalLM.from_pretrained(\n",
    "    cfg.model_path,\n",
    "    #quantization_config=bnb_config,\n",
    "    device_map=device_map,\n",
    "    # max_memory={0: '9GB', 1: '8GB'},\n",
    "    trust_remote_code=True,\n",
    "    torch_dtype=torch.bfloat16,\n",
    "    attn_implementation=get_flash_attention_implementation(),\n",
    "    )\n"
   ]
  },
  {
   "cell_type": "code",
   "execution_count": 5,
   "metadata": {},
   "outputs": [],
   "source": [
    "def get_tokenizer(model_path, model, pad_token='<|pad|>'):\n",
    "    tokenizer = AutoTokenizer.from_pretrained(\n",
    "        model_path,\n",
    "        trust_remote_code=True)\n",
    "    if tokenizer.pad_token == tokenizer.eos_token:\n",
    "        if 'qwen' in model_path.lower():\n",
    "            tokenizer.eos_token = '<|im_end|>'\n",
    "    elif 'pad_token' not in tokenizer.special_tokens_map or tokenizer.pad_token == tokenizer.eos_token:\n",
    "        assert pad_token not in tokenizer.get_vocab()\n",
    "        tokenizer.add_special_tokens({'pad_token': pad_token})\n",
    "        tokenizer.padding_side = 'right'\n",
    "        model.resize_token_embeddings(len(tokenizer))\n",
    "    # if tokenizer.chat_template is None:\n",
    "    #     logger.warning('The tokenizer does not have a chat template, assigning Qwen2 chat template')\n",
    "    #     tokenizer.chat_template = AutoTokenizer.from_pretrained('Qwen/Qwen2.5-0.5B-Instruct', trust_remote_code=True).chat_template\n",
    "    #     # tried adding this additional code without success\n",
    "    #     tokenizer.add_special_tokens({'eos_token': '<|im_end|>'})\n",
    "    #     tokenizer.add_special_tokens({'pad_token': '<|endoftext|>'})\n",
    "    #     # tokenizer.eos_token = '<|im_end|>'\n",
    "    #     # tokenizer.pad_token = '<|endoftext|>'\n",
    "    assert tokenizer.pad_token != tokenizer.eos_token\n",
    "    assert tokenizer.pad_token_id != tokenizer.eos_token_id\n",
    "    return tokenizer\n",
    "\n",
    "tokenizer = get_tokenizer(cfg.model_path, model)"
   ]
  },
  {
   "cell_type": "code",
   "execution_count": 6,
   "metadata": {},
   "outputs": [],
   "source": [
    "def load_arc_data_with_solutions(filepath):\n",
    "    with open(filepath, 'r') as f:\n",
    "        data = json.load(f)\n",
    "    solutions_filepath = filepath.replace('challenges.json', 'solutions.json')\n",
    "    if filepath != solutions_filepath and os.path.exists(solutions_filepath):\n",
    "        with open(solutions_filepath, 'r') as f:\n",
    "            solutions = json.load(f)\n",
    "        for sample_id, task in data.items():\n",
    "            for idx, sample in enumerate(task['test']):\n",
    "                sample['output'] = solutions[sample_id][idx]\n",
    "    else:\n",
    "        print('No solutions file found, the solutions should already be in the data')\n",
    "    return data"
   ]
  },
  {
   "cell_type": "code",
   "execution_count": 7,
   "metadata": {},
   "outputs": [],
   "source": [
    "class GridEncoder(ABC):\n",
    "    @abstractmethod\n",
    "    def to_text(self, grid):\n",
    "        pass\n",
    "    \n",
    "    @abstractmethod\n",
    "    def to_grid(self, text):\n",
    "        pass"
   ]
  },
  {
   "cell_type": "code",
   "execution_count": 8,
   "metadata": {},
   "outputs": [],
   "source": [
    "class MinimalGridEncoder(GridEncoder):\n",
    "    @staticmethod\n",
    "    def to_text(grid):\n",
    "        text = '\\n'.join([''.join([str(x) for x in line]) for line in grid])\n",
    "        return text\n",
    "    \n",
    "    @staticmethod\n",
    "    def to_grid(text):\n",
    "        lines = text.strip().splitlines()\n",
    "        grid = [[int(x) for x in line] for line in lines]\n",
    "        return grid\n",
    "        \n"
   ]
  },
  {
   "cell_type": "code",
   "execution_count": 9,
   "metadata": {},
   "outputs": [],
   "source": [
    "class GridWithSeparationEncoder(GridEncoder):\n",
    "    def __init__(self, split_symbol):\n",
    "        self.split_symbol = split_symbol\n",
    "\n",
    "    def to_text(self, grid):\n",
    "        text = '\\n'.join([self.split_symbol.join([str(x) for x in line]) for line in grid])\n",
    "        return text\n",
    "\n",
    "    def to_grid(self, text):\n",
    "        lines = text.strip().splitlines()\n",
    "        grid = [[int(x) for x in line.split(self.split_symbol)] for line in lines]\n",
    "        return grid\n"
   ]
  },
  {
   "cell_type": "code",
   "execution_count": 10,
   "metadata": {},
   "outputs": [],
   "source": [
    "class GridCodeBlockEncoder(GridEncoder):\n",
    "    def __init__(self, base_encoder):\n",
    "        self.encoder = base_encoder\n",
    "\n",
    "    def to_text(self, grid):\n",
    "        text = f'```grid\\n{self.encoder.to_text(grid)}\\n```'\n",
    "        return text\n",
    "\n",
    "    def to_grid(self, text):\n",
    "        grid_text = text.split('```grid\\n')[1].split('\\n```')[0]\n",
    "        grid = self.encoder.to_grid(grid_text)\n",
    "        return grid"
   ]
  },
  {
   "cell_type": "code",
   "execution_count": 11,
   "metadata": {},
   "outputs": [],
   "source": [
    "class DataAugmentation():\n",
    "    def __init__(self, flip, n_rot90):\n",
    "        self.flip = flip\n",
    "        self.n_rot90 = n_rot90\n",
    "\n",
    "    def augment_task(self, task):\n",
    "        augmented_task = dict()\n",
    "        for partition, samples in task.items():\n",
    "            augmented_task[partition] = [{name:self.augment_grid(grid) for name,grid in sample.items()} for sample in samples]\n",
    "        return augmented_task\n",
    "\n",
    "    def augment_grid(self, grid):\n",
    "        grid = np.array(grid)\n",
    "        if self.flip:\n",
    "            grid = np.flip(grid, axis=1)\n",
    "        grid = np.rot90(grid, k=self.n_rot90)\n",
    "        return grid.tolist()\n",
    "\n",
    "    def revert_augmentation(self, grid):\n",
    "        grid = np.array(grid)\n",
    "        grid = np.rot90(grid, k=-self.n_rot90)\n",
    "        if self.flip:\n",
    "            grid = np.flip(grid, axis=1)\n",
    "        return grid.tolist()"
   ]
  },
  {
   "cell_type": "code",
   "execution_count": 12,
   "metadata": {},
   "outputs": [],
   "source": [
    "#PLOT\n",
    "\n",
    "def plot_grid(grid):\n",
    "    grid = np.array(grid)\n",
    "    cmap = colors.ListedColormap(\n",
    "        ['#000000', '#0074D9','#FF4136','#2ECC40','#FFDC00',\n",
    "         '#AAAAAA', '#F012BE', '#FF851B', '#7FDBFF', '#870C25'])\n",
    "    norm = colors.Normalize(vmin=0, vmax=9)\n",
    "    plt.imshow(grid, cmap=cmap, norm=norm)\n",
    "    plt.grid(True,which='both',color='lightgrey', linewidth=0.5)\n",
    "    plt.xticks(np.arange(-0.5, grid.shape[1]), [])\n",
    "    plt.yticks(np.arange(-0.5, grid.shape[0]), [])\n",
    "    plt.xlim(-0.5, grid.shape[1]-0.5)\n",
    "\n",
    "    for i in range(grid.shape[0]):\n",
    "        for j in range(grid.shape[1]):\n",
    "            plt.text(j, i, grid[i, j], ha='center', va='center')\n",
    "def plot_task(task):\n",
    "    all_samples = task['train'] + task['test']\n",
    "    for plot_idx, sample in enumerate(all_samples):\n",
    "        plt.subplot(1, len(all_samples), plot_idx+1)\n",
    "        plot_grid(sample['input'])\n",
    "        if plot_idx < len(task['train']):\n",
    "            plt.title(f'train {plot_idx}')\n",
    "        else:\n",
    "            plt.title(f'test {plot_idx-len(task[\"train\"])}')\n",
    "    plt.suptitle('Inputs for task')\n",
    "    plt.show()\n",
    "    for plot_idx, sample in enumerate(all_samples):\n",
    "        plt.subplot(1, len(all_samples), plot_idx+1)\n",
    "        plot_grid(sample['output'])\n",
    "        if plot_idx < len(task['train']):\n",
    "            plt.title(f'train {plot_idx}')\n",
    "        else:\n",
    "            plt.title(f'test {plot_idx-len(task[\"train\"])}')\n",
    "    plt.suptitle('Outputs for task')\n",
    "    plt.show()"
   ]
  },
  {
   "cell_type": "code",
   "execution_count": 13,
   "metadata": {},
   "outputs": [],
   "source": [
    "def swap_one_train_and_test_sample(task):\n",
    "    augmented_tasks = [task]\n",
    "    for train_idx, train_sample in enumerate(task['train']):\n",
    "        for test_idx, test_sample in enumerate(task['test']):\n",
    "            augmented_task = dict()\n",
    "            augmented_task['train'] = task['train'][:train_idx] + [test_sample] + task['train'][train_idx+1:]\n",
    "            augmented_task['test'] = task['test'][:test_idx] + [train_sample] + task['test'][test_idx+1:]\n",
    "            augmented_tasks.append(augmented_task)\n",
    "    return augmented_tasks\n",
    "\n",
    "\n",
    "def swap_task_colors(task, change_background_probability=0.1):\n",
    "    colors = list(range(10))\n",
    "    if random.random() < change_background_probability:\n",
    "        new_colors = list(range(10))\n",
    "        random.shuffle(new_colors)\n",
    "    else:\n",
    "        new_colors = list(range(1, 10))\n",
    "        random.shuffle(new_colors)\n",
    "        new_colors = [0] + new_colors\n",
    "\n",
    "    color_map = {x: y for x, y in zip(colors, new_colors)}\n",
    "    vectorized_mapping = np.vectorize(color_map.get)\n",
    "\n",
    "    new_task = dict()\n",
    "    for key in task.keys():\n",
    "        new_task[key] = [{name:vectorized_mapping(grid) for name, grid in sample.items()} for sample in task[key]]\n",
    "    return new_task\n",
    "\n",
    "\n",
    "def permute_train_samples(task, max_permutations=6):\n",
    "    augmented_tasks = []\n",
    "    for _ in range(max_permutations):\n",
    "        train_order = np.arange(len(task['train']))\n",
    "        np.random.shuffle(train_order)\n",
    "        augmented_task = dict()\n",
    "        augmented_task['train'] = [task['train'][idx] for idx in train_order]\n",
    "        augmented_task['test'] = task['test']\n",
    "        augmented_tasks.append(augmented_task)\n",
    "    return augmented_tasks\n",
    "\n",
    "\n",
    "def apply_geometric_augmentations(task, n_augmentations=8):\n",
    "    augmented_tasks = []\n",
    "    data_augmentation_params = product([False, True], [0, 1, 2, 3])\n",
    "    if n_augmentations < 8:\n",
    "        data_augmentation_params = list(data_augmentation_params)\n",
    "        indices = np.random.choice(np.arange(len(data_augmentation_params)), n_augmentations, replace=False)\n",
    "        data_augmentation_params = [data_augmentation_params[idx] for idx in indices]\n",
    "    for flip, n_rot90 in data_augmentation_params:\n",
    "        data_augmentation = DataAugmentation(flip, n_rot90)\n",
    "        augmented_task = data_augmentation.augment_task(task)\n",
    "        augmented_tasks.append(augmented_task)\n",
    "    return augmented_tasks\n",
    "def apply_all_data_augmentations(tasks):\n",
    "    print('Applying all data augmentations, initial number of tasks is', len(tasks))\n",
    "    augmented_tasks = tasks\n",
    "    if cfg.geometric_transforms:\n",
    "        augmented_tasks = list(chain(*[apply_geometric_augmentations(task, cfg.geometric_transforms) for task in tqdm(augmented_tasks, desc='geometric augmentations')]))\n",
    "        print(f'After applying geometric augmentations there are {len(augmented_tasks)} tasks')\n",
    "    if cfg.swap_train_and_test:\n",
    "        augmented_tasks = list(chain(*[swap_one_train_and_test_sample(task) for task in tqdm(augmented_tasks, desc='swap train and test')]))\n",
    "        print(f'After swapping train and test samples there are {len(augmented_tasks)} tasks')\n",
    "    if cfg.max_train_permutations:\n",
    "        augmented_tasks = list(chain(*[permute_train_samples(task, max_permutations=cfg.max_train_permutations) for task in tqdm(augmented_tasks, desc='permute train samples')]))\n",
    "        print(f'After permuting train samples there are {len(augmented_tasks)} tasks')\n",
    "    if cfg.color_swaps:\n",
    "        if cfg.preserve_original_colors:\n",
    "            augmented_tasks.extend([swap_task_colors(task) for task in tqdm(augmented_tasks*cfg.color_swaps, desc='swap colors')])\n",
    "        else:\n",
    "            augmented_tasks = [swap_task_colors(task) for task in tqdm(augmented_tasks*cfg.color_swaps, desc='swap colors')]\n",
    "        print(f'After swapping colors there are {len(augmented_tasks)} tasks')\n",
    "    return augmented_tasks"
   ]
  },
  {
   "cell_type": "code",
   "execution_count": 14,
   "metadata": {},
   "outputs": [],
   "source": [
    "task_description = \"\"\"You are a helpful AI assistant. Your job is to solve tasks from the Abstraction and Reasoning Challenge (ARC). \n",
    "The user will present you with sample input and output grids for each task. \n",
    "Your job will be to understand the transformation between the input and the output and apply it to the last input grid given by the user. \n",
    "The puzzle-like inputs and outputs present a grid where each square can be one of ten colors. A grid can be any height or width between 1x1 and 30x30.\n",
    "The background of the grid is typically colored with 0.\n",
    "The tasks from ARC are based on the following priors:\n",
    "\n",
    "- Objectness: Objects persist and cannot appear or disappear without reason. Objects can interact or not depending on the circumstances.\n",
    "- Goal-directed: Objects can be animate or inanimate. Some objects are \"agents\" - they have intentions and they pursue goals.\n",
    "- Numbers & counting: Objects can be counted or sorted by their shape, appearance, or movement using basic mathematics like addition, subtraction, and comparison.\n",
    "- Basic geometry & topology: Objects can be shapes like rectangles, triangles, and circles which can be mirrored, rotated, translated, deformed, combined, repeated, etc. Differences in distances can be detected.\n",
    "\n",
    "The transformations between input and output should be based on these priors.\n",
    "\"\"\"\n",
    "\n",
    "def create_prompts_from_task(task, grid_encoder):\n",
    "    prompts = []\n",
    "    for test_sample in task['test']:\n",
    "        messages = [{\"role\": \"system\", \"content\": task_description}]\n",
    "        user_message = \"Let's see if you can solve this simple ARC task. These are some input-output grid examples that define the task.\\n\"\n",
    "        for example_idx, sample in enumerate(task['train']):\n",
    "            user_message += f\"\\n## Example {example_idx}\\n\\n### Input\\n\\n{grid_encoder.to_text(sample['input'])}\\n\"\n",
    "            user_message += f\"### Output\\n\\n{grid_encoder.to_text(sample['output'])}\\n\"\n",
    "        user_message += f\"\\n## Test case\\n\\n### Input\\n\\n{grid_encoder.to_text(test_sample['input'])}\\n\"\n",
    "        messages.append({\"role\": \"user\", \"content\": user_message})\n",
    "        messages.append({\"role\": \"assistant\", \"content\": f\"### Output\\n\\n{grid_encoder.to_text(test_sample['output'])}\\n\"})\n",
    "\n",
    "        prompt = tokenizer.apply_chat_template(\n",
    "            messages, tokenize=False, add_generation_prompt=False)\n",
    "        prompts.append(prompt)\n",
    "    return prompts"
   ]
  },
  {
   "cell_type": "code",
   "execution_count": 18,
   "metadata": {},
   "outputs": [],
   "source": [
    "def create_dataset(filepath, grid_encoder, use_data_augmentation=True, repeat_prompts=0):\n",
    "    data = load_arc_data_with_solutions(filepath)\n",
    "\n",
    "    tasks = list(data.values())\n",
    "    if use_data_augmentation:\n",
    "        tasks = apply_all_data_augmentations(tasks)\n",
    "\n",
    "    prompts = []\n",
    "    for task in tqdm(tasks, desc='create prompts'):\n",
    "        prompts.extend(create_prompts_from_task(task, grid_encoder))\n",
    "    print(len(prompts))\n",
    "\n",
    "    np.random.shuffle(prompts)\n",
    "    pretty_print_prompt(prompts[0])\n",
    "\n",
    "    prompt_lengths = [len(tokenizer.encode(prompt)) for prompt in tqdm(prompts, desc='Calculating prompt lengths')]\n",
    "    plt.hist(prompt_lengths, bins=100);\n",
    "    plt.title('Prompt length distribution')\n",
    "    plt.xlabel('Number of tokens');\n",
    "    plt.show()\n",
    "\n",
    "    prompts = [prompt for prompt, prompt_length in zip(prompts, prompt_lengths) if prompt_length < cfg.max_seq_len]\n",
    "    print(f'Leaving {len(prompts)} prompts after removing those longer than {cfg.max_seq_len} tokens')\n",
    "\n",
    "    if repeat_prompts:\n",
    "        repeated_prompts = prompts.copy()\n",
    "        for _ in range(repeat_prompts):\n",
    "            repeated_prompts = repeated_prompts.copy()\n",
    "            np.random.shuffle(repeated_prompts)\n",
    "            prompts.extend(repeated_prompts)\n",
    "        print(f'Repeating prompts {repeat_prompts} times, now there are {len(prompts)} prompts')\n",
    "\n",
    "    dataset = Dataset.from_dict({'text': prompts})\n",
    "    return dataset\n",
    "\n",
    "def pretty_print_prompt(text, default_color='black'):\n",
    "    color = default_color\n",
    "    attrs = None\n",
    "    print('-'*80)\n",
    "    for line in text.splitlines():\n",
    "        if line.startswith('<|assistant|>') or line.startswith('<|im_start|>assistant'):\n",
    "            color = 'blue'\n",
    "        elif line.startswith('<|user|>') or line.startswith('<|im_start|>user'):\n",
    "            color = default_color\n",
    "        elif line.startswith('<|system|>') or line.startswith('<|im_start|>system'):\n",
    "            color = 'green'\n",
    "        if line.startswith('<'):\n",
    "            attrs = ['bold']\n",
    "        else:\n",
    "            attrs = None\n",
    "        print(colored(line, color, attrs=attrs))\n",
    "    print('-'*80)"
   ]
  },
  {
   "cell_type": "code",
   "execution_count": 19,
   "metadata": {},
   "outputs": [
    {
     "name": "stdout",
     "output_type": "stream",
     "text": [
      "Applying all data augmentations, initial number of tasks is 400\n"
     ]
    },
    {
     "data": {
      "application/vnd.jupyter.widget-view+json": {
       "model_id": "2000c35d9e0b4ffc92752a0979e00a79",
       "version_major": 2,
       "version_minor": 0
      },
      "text/plain": [
       "geometric augmentations:   0%|          | 0/400 [00:00<?, ?it/s]"
      ]
     },
     "metadata": {},
     "output_type": "display_data"
    },
    {
     "name": "stdout",
     "output_type": "stream",
     "text": [
      "After applying geometric augmentations there are 800 tasks\n"
     ]
    },
    {
     "data": {
      "application/vnd.jupyter.widget-view+json": {
       "model_id": "bfa93e52d3704fbd99d3a39c8d19bb18",
       "version_major": 2,
       "version_minor": 0
      },
      "text/plain": [
       "swap train and test:   0%|          | 0/800 [00:00<?, ?it/s]"
      ]
     },
     "metadata": {},
     "output_type": "display_data"
    },
    {
     "name": "stdout",
     "output_type": "stream",
     "text": [
      "After swapping train and test samples there are 3584 tasks\n"
     ]
    },
    {
     "data": {
      "application/vnd.jupyter.widget-view+json": {
       "model_id": "db2b3e8cdd234f4084753efdcdbcb324",
       "version_major": 2,
       "version_minor": 0
      },
      "text/plain": [
       "permute train samples:   0%|          | 0/3584 [00:00<?, ?it/s]"
      ]
     },
     "metadata": {},
     "output_type": "display_data"
    },
    {
     "name": "stdout",
     "output_type": "stream",
     "text": [
      "After permuting train samples there are 7168 tasks\n"
     ]
    },
    {
     "data": {
      "application/vnd.jupyter.widget-view+json": {
       "model_id": "12796de3dd394de0a53f2dd0c8892803",
       "version_major": 2,
       "version_minor": 0
      },
      "text/plain": [
       "swap colors:   0%|          | 0/7168 [00:00<?, ?it/s]"
      ]
     },
     "metadata": {},
     "output_type": "display_data"
    },
    {
     "name": "stdout",
     "output_type": "stream",
     "text": [
      "After swapping colors there are 7168 tasks\n"
     ]
    },
    {
     "data": {
      "application/vnd.jupyter.widget-view+json": {
       "model_id": "f9049442146846dc9d36bd5a2f598b26",
       "version_major": 2,
       "version_minor": 0
      },
      "text/plain": [
       "create prompts:   0%|          | 0/7168 [00:00<?, ?it/s]"
      ]
     },
     "metadata": {},
     "output_type": "display_data"
    },
    {
     "name": "stdout",
     "output_type": "stream",
     "text": [
      "8072\n",
      "--------------------------------------------------------------------------------\n",
      "\u001b[1m\u001b[32m<|im_start|>system\u001b[0m\n",
      "\u001b[32mYou are a helpful AI assistant. Your job is to solve tasks from the Abstraction and Reasoning Challenge (ARC). \u001b[0m\n",
      "\u001b[32mThe user will present you with sample input and output grids for each task. \u001b[0m\n",
      "\u001b[32mYour job will be to understand the transformation between the input and the output and apply it to the last input grid given by the user. \u001b[0m\n",
      "\u001b[32mThe puzzle-like inputs and outputs present a grid where each square can be one of ten colors. A grid can be any height or width between 1x1 and 30x30.\u001b[0m\n",
      "\u001b[32mThe background of the grid is typically colored with 0.\u001b[0m\n",
      "\u001b[32mThe tasks from ARC are based on the following priors:\u001b[0m\n",
      "\u001b[32m\u001b[0m\n",
      "\u001b[32m- Objectness: Objects persist and cannot appear or disappear without reason. Objects can interact or not depending on the circumstances.\u001b[0m\n",
      "\u001b[32m- Goal-directed: Objects can be animate or inanimate. Some objects are \"agents\" - they have intentions and they pursue goals.\u001b[0m\n",
      "\u001b[32m- Numbers & counting: Objects can be counted or sorted by their shape, appearance, or movement using basic mathematics like addition, subtraction, and comparison.\u001b[0m\n",
      "\u001b[32m- Basic geometry & topology: Objects can be shapes like rectangles, triangles, and circles which can be mirrored, rotated, translated, deformed, combined, repeated, etc. Differences in distances can be detected.\u001b[0m\n",
      "\u001b[32m\u001b[0m\n",
      "\u001b[32mThe transformations between input and output should be based on these priors.\u001b[0m\n",
      "\u001b[1m\u001b[32m<|im_end|>\u001b[0m\n",
      "\u001b[1m\u001b[30m<|im_start|>user\u001b[0m\n",
      "\u001b[30mLet's see if you can solve this simple ARC task. These are some input-output grid examples that define the task.\u001b[0m\n",
      "\u001b[30m\u001b[0m\n",
      "\u001b[30m## Example 0\u001b[0m\n",
      "\u001b[30m\u001b[0m\n",
      "\u001b[30m### Input\u001b[0m\n",
      "\u001b[30m\u001b[0m\n",
      "\u001b[30m```grid\u001b[0m\n",
      "\u001b[30m1|1|0\u001b[0m\n",
      "\u001b[30m1|0|0\u001b[0m\n",
      "\u001b[30m0|1|0\u001b[0m\n",
      "\u001b[30m```\u001b[0m\n",
      "\u001b[30m### Output\u001b[0m\n",
      "\u001b[30m\u001b[0m\n",
      "\u001b[30m```grid\u001b[0m\n",
      "\u001b[30m0|1|1|1|1|0\u001b[0m\n",
      "\u001b[30m0|0|1|1|0|0\u001b[0m\n",
      "\u001b[30m0|1|0|0|1|0\u001b[0m\n",
      "\u001b[30m```\u001b[0m\n",
      "\u001b[30m\u001b[0m\n",
      "\u001b[30m## Example 1\u001b[0m\n",
      "\u001b[30m\u001b[0m\n",
      "\u001b[30m### Input\u001b[0m\n",
      "\u001b[30m\u001b[0m\n",
      "\u001b[30m```grid\u001b[0m\n",
      "\u001b[30m1|0|0\u001b[0m\n",
      "\u001b[30m0|1|0\u001b[0m\n",
      "\u001b[30m0|1|1\u001b[0m\n",
      "\u001b[30m```\u001b[0m\n",
      "\u001b[30m### Output\u001b[0m\n",
      "\u001b[30m\u001b[0m\n",
      "\u001b[30m```grid\u001b[0m\n",
      "\u001b[30m0|0|1|1|0|0\u001b[0m\n",
      "\u001b[30m0|1|0|0|1|0\u001b[0m\n",
      "\u001b[30m1|1|0|0|1|1\u001b[0m\n",
      "\u001b[30m```\u001b[0m\n",
      "\u001b[30m\u001b[0m\n",
      "\u001b[30m## Example 2\u001b[0m\n",
      "\u001b[30m\u001b[0m\n",
      "\u001b[30m### Input\u001b[0m\n",
      "\u001b[30m\u001b[0m\n",
      "\u001b[30m```grid\u001b[0m\n",
      "\u001b[30m0|0|0\u001b[0m\n",
      "\u001b[30m1|1|0\u001b[0m\n",
      "\u001b[30m0|0|0\u001b[0m\n",
      "\u001b[30m```\u001b[0m\n",
      "\u001b[30m### Output\u001b[0m\n",
      "\u001b[30m\u001b[0m\n",
      "\u001b[30m```grid\u001b[0m\n",
      "\u001b[30m0|0|0|0|0|0\u001b[0m\n",
      "\u001b[30m0|1|1|1|1|0\u001b[0m\n",
      "\u001b[30m0|0|0|0|0|0\u001b[0m\n",
      "\u001b[30m```\u001b[0m\n",
      "\u001b[30m\u001b[0m\n",
      "\u001b[30m## Test case\u001b[0m\n",
      "\u001b[30m\u001b[0m\n",
      "\u001b[30m### Input\u001b[0m\n",
      "\u001b[30m\u001b[0m\n",
      "\u001b[30m```grid\u001b[0m\n",
      "\u001b[30m0|0|0\u001b[0m\n",
      "\u001b[30m0|0|1\u001b[0m\n",
      "\u001b[30m0|0|0\u001b[0m\n",
      "\u001b[30m```\u001b[0m\n",
      "\u001b[1m\u001b[30m<|im_end|>\u001b[0m\n",
      "\u001b[1m\u001b[34m<|im_start|>assistant\u001b[0m\n",
      "\u001b[34m### Output\u001b[0m\n",
      "\u001b[34m\u001b[0m\n",
      "\u001b[34m```grid\u001b[0m\n",
      "\u001b[34m0|0|0|0|0|0\u001b[0m\n",
      "\u001b[34m1|0|0|0|0|1\u001b[0m\n",
      "\u001b[34m0|0|0|0|0|0\u001b[0m\n",
      "\u001b[34m```\u001b[0m\n",
      "\u001b[1m\u001b[34m<|im_end|>\u001b[0m\n",
      "--------------------------------------------------------------------------------\n"
     ]
    },
    {
     "data": {
      "application/vnd.jupyter.widget-view+json": {
       "model_id": "7444983b79df47eeb720ed9e82a22d4a",
       "version_major": 2,
       "version_minor": 0
      },
      "text/plain": [
       "Calculating prompt lengths:   0%|          | 0/8072 [00:00<?, ?it/s]"
      ]
     },
     "metadata": {},
     "output_type": "display_data"
    },
    {
     "data": {
      "image/png": "[encoded data removed]",
      "text/plain": [
       "<Figure size 640x480 with 1 Axes>"
      ]
     },
     "metadata": {},
     "output_type": "display_data"
    },
    {
     "name": "stdout",
     "output_type": "stream",
     "text": [
      "Leaving 6908 prompts after removing those longer than 4096 tokens\n"
     ]
    }
   ],
   "source": [
    "if 'qwen' in cfg.model_path.lower():\n",
    "    # we need to add separation between numbers in the grid\n",
    "    grid_encoder = GridCodeBlockEncoder(GridWithSeparationEncoder('|'))\n",
    "else:\n",
    "    grid_encoder = GridCodeBlockEncoder(MinimalGridEncoder())\n",
    "    \n",
    "train_dataset = create_dataset(\n",
    "    cfg.train_dataset, grid_encoder,\n",
    "    use_data_augmentation=cfg.use_data_augmentation,\n",
    "    repeat_prompts=cfg.repeat_prompts)"
   ]
  },
  {
   "cell_type": "code",
   "execution_count": 20,
   "metadata": {},
   "outputs": [
    {
     "data": {
      "application/vnd.jupyter.widget-view+json": {
       "model_id": "ffc911f7084044db8c3403c8a42a3b3e",
       "version_major": 2,
       "version_minor": 0
      },
      "text/plain": [
       "create prompts:   0%|          | 0/400 [00:00<?, ?it/s]"
      ]
     },
     "metadata": {},
     "output_type": "display_data"
    },
    {
     "name": "stdout",
     "output_type": "stream",
     "text": [
      "419\n",
      "--------------------------------------------------------------------------------\n",
      "\u001b[1m\u001b[32m<|im_start|>system\u001b[0m\n",
      "\u001b[32mYou are a helpful AI assistant. Your job is to solve tasks from the Abstraction and Reasoning Challenge (ARC). \u001b[0m\n",
      "\u001b[32mThe user will present you with sample input and output grids for each task. \u001b[0m\n",
      "\u001b[32mYour job will be to understand the transformation between the input and the output and apply it to the last input grid given by the user. \u001b[0m\n",
      "\u001b[32mThe puzzle-like inputs and outputs present a grid where each square can be one of ten colors. A grid can be any height or width between 1x1 and 30x30.\u001b[0m\n",
      "\u001b[32mThe background of the grid is typically colored with 0.\u001b[0m\n",
      "\u001b[32mThe tasks from ARC are based on the following priors:\u001b[0m\n",
      "\u001b[32m\u001b[0m\n",
      "\u001b[32m- Objectness: Objects persist and cannot appear or disappear without reason. Objects can interact or not depending on the circumstances.\u001b[0m\n",
      "\u001b[32m- Goal-directed: Objects can be animate or inanimate. Some objects are \"agents\" - they have intentions and they pursue goals.\u001b[0m\n",
      "\u001b[32m- Numbers & counting: Objects can be counted or sorted by their shape, appearance, or movement using basic mathematics like addition, subtraction, and comparison.\u001b[0m\n",
      "\u001b[32m- Basic geometry & topology: Objects can be shapes like rectangles, triangles, and circles which can be mirrored, rotated, translated, deformed, combined, repeated, etc. Differences in distances can be detected.\u001b[0m\n",
      "\u001b[32m\u001b[0m\n",
      "\u001b[32mThe transformations between input and output should be based on these priors.\u001b[0m\n",
      "\u001b[1m\u001b[32m<|im_end|>\u001b[0m\n",
      "\u001b[1m\u001b[30m<|im_start|>user\u001b[0m\n",
      "\u001b[30mLet's see if you can solve this simple ARC task. These are some input-output grid examples that define the task.\u001b[0m\n",
      "\u001b[30m\u001b[0m\n",
      "\u001b[30m## Example 0\u001b[0m\n",
      "\u001b[30m\u001b[0m\n",
      "\u001b[30m### Input\u001b[0m\n",
      "\u001b[30m\u001b[0m\n",
      "\u001b[30m```grid\u001b[0m\n",
      "\u001b[30m0|0|0|0|0|0|0|0|0|0|0|0|0|0|0\u001b[0m\n",
      "\u001b[30m0|8|3|8|0|0|0|0|0|0|0|0|0|0|0\u001b[0m\n",
      "\u001b[30m0|3|8|3|0|0|0|0|0|0|0|0|0|0|0\u001b[0m\n",
      "\u001b[30m0|8|3|8|0|0|0|0|0|0|0|0|0|0|0\u001b[0m\n",
      "\u001b[30m0|0|0|0|0|0|0|0|0|0|0|0|0|0|0\u001b[0m\n",
      "\u001b[30m0|0|0|2|1|2|0|0|0|0|0|0|0|0|0\u001b[0m\n",
      "\u001b[30m0|0|0|1|2|1|0|0|0|0|0|0|0|0|0\u001b[0m\n",
      "\u001b[30m0|0|0|2|1|2|0|0|1|4|1|0|0|0|0\u001b[0m\n",
      "\u001b[30m0|0|0|0|0|0|0|0|4|1|4|0|0|0|0\u001b[0m\n",
      "\u001b[30m0|7|6|7|0|0|0|0|1|4|1|0|0|0|0\u001b[0m\n",
      "\u001b[30m0|6|7|6|0|0|0|0|0|0|0|0|0|0|0\u001b[0m\n",
      "\u001b[30m0|7|6|7|0|0|0|0|0|0|0|0|0|0|0\u001b[0m\n",
      "\u001b[30m0|0|0|0|0|0|0|0|0|0|0|0|0|0|0\u001b[0m\n",
      "\u001b[30m0|0|0|0|0|0|0|0|0|0|0|0|0|0|0\u001b[0m\n",
      "\u001b[30m0|0|0|0|0|0|0|0|0|0|0|0|0|0|0\u001b[0m\n",
      "\u001b[30m```\u001b[0m\n",
      "\u001b[30m### Output\u001b[0m\n",
      "\u001b[30m\u001b[0m\n",
      "\u001b[30m```grid\u001b[0m\n",
      "\u001b[30m0|0|0|0|0|0|0|0|0|0|0|0|0|0|0\u001b[0m\n",
      "\u001b[30m0|0|0|0|0|0|0|0|0|0|0|0|8|3|8\u001b[0m\n",
      "\u001b[30m0|0|0|0|0|0|0|0|0|0|0|0|3|8|3\u001b[0m\n",
      "\u001b[30m0|0|0|0|0|0|0|0|0|0|0|0|8|3|8\u001b[0m\n",
      "\u001b[30m0|0|0|0|0|0|0|0|0|0|0|0|0|0|0\u001b[0m\n",
      "\u001b[30m0|0|0|0|0|0|0|0|0|2|1|2|0|0|0\u001b[0m\n",
      "\u001b[30m0|0|0|0|0|0|0|0|0|1|2|1|0|0|0\u001b[0m\n",
      "\u001b[30m0|0|0|0|0|0|0|0|0|2|1|2|1|4|1\u001b[0m\n",
      "\u001b[30m0|0|0|0|0|0|0|0|0|0|0|0|4|1|4\u001b[0m\n",
      "\u001b[30m0|0|0|0|0|0|0|0|0|7|6|7|1|4|1\u001b[0m\n",
      "\u001b[30m0|0|0|0|0|0|0|0|0|6|7|6|0|0|0\u001b[0m\n",
      "\u001b[30m0|0|0|0|0|0|0|0|0|7|6|7|0|0|0\u001b[0m\n",
      "\u001b[30m0|0|0|0|0|0|0|0|0|0|0|0|0|0|0\u001b[0m\n",
      "\u001b[30m0|0|0|0|0|0|0|0|0|0|0|0|0|0|0\u001b[0m\n",
      "\u001b[30m0|0|0|0|0|0|0|0|0|0|0|0|0|0|0\u001b[0m\n",
      "\u001b[30m```\u001b[0m\n",
      "\u001b[30m\u001b[0m\n",
      "\u001b[30m## Example 1\u001b[0m\n",
      "\u001b[30m\u001b[0m\n",
      "\u001b[30m### Input\u001b[0m\n",
      "\u001b[30m\u001b[0m\n",
      "\u001b[30m```grid\u001b[0m\n",
      "\u001b[30m0|0|0|0|0|0|0|0|0|0|0|0|0|0|0\u001b[0m\n",
      "\u001b[30m0|0|0|0|0|0|0|0|0|0|0|0|0|0|0\u001b[0m\n",
      "\u001b[30m0|0|1|2|0|0|0|0|0|0|0|0|0|0|0\u001b[0m\n",
      "\u001b[30m0|0|2|1|0|0|0|5|8|0|0|0|0|0|0\u001b[0m\n",
      "\u001b[30m0|0|0|0|0|0|0|8|5|0|0|0|0|0|0\u001b[0m\n",
      "\u001b[30m0|0|0|0|0|0|0|0|0|0|0|0|0|0|0\u001b[0m\n",
      "\u001b[30m0|0|0|0|0|0|0|0|0|0|0|0|0|0|0\u001b[0m\n",
      "\u001b[30m0|0|0|0|0|6|4|0|0|0|0|0|0|0|0\u001b[0m\n",
      "\u001b[30m0|8|9|0|0|4|6|0|0|0|0|0|0|0|0\u001b[0m\n",
      "\u001b[30m0|9|8|0|0|0|0|0|0|0|0|0|0|0|0\u001b[0m\n",
      "\u001b[30m0|0|0|0|0|0|0|0|0|2|1|0|0|0|0\u001b[0m\n",
      "\u001b[30m0|0|0|0|0|0|0|0|0|1|2|0|0|0|0\u001b[0m\n",
      "\u001b[30m0|0|0|0|0|0|0|0|0|0|0|0|0|0|0\u001b[0m\n",
      "\u001b[30m0|0|0|0|0|0|0|0|0|0|0|0|0|0|0\u001b[0m\n",
      "\u001b[30m0|0|0|0|0|0|0|0|0|0|0|0|0|0|0\u001b[0m\n",
      "\u001b[30m```\u001b[0m\n",
      "\u001b[30m### Output\u001b[0m\n",
      "\u001b[30m\u001b[0m\n",
      "\u001b[30m```grid\u001b[0m\n",
      "\u001b[30m0|0|0|0|0|0|0|0|0|0|0|0|0|0|0\u001b[0m\n",
      "\u001b[30m0|0|0|0|0|0|0|0|0|0|0|0|0|0|0\u001b[0m\n",
      "\u001b[30m0|0|0|0|0|0|0|0|0|0|0|1|2|0|0\u001b[0m\n",
      "\u001b[30m0|0|0|0|0|0|0|0|0|0|0|2|1|5|8\u001b[0m\n",
      "\u001b[30m0|0|0|0|0|0|0|0|0|0|0|0|0|8|5\u001b[0m\n",
      "\u001b[30m0|0|0|0|0|0|0|0|0|0|0|0|0|0|0\u001b[0m\n",
      "\u001b[30m0|0|0|0|0|0|0|0|0|0|0|0|0|0|0\u001b[0m\n",
      "\u001b[30m0|0|0|0|0|0|0|0|0|0|0|0|0|6|4\u001b[0m\n",
      "\u001b[30m0|0|0|0|0|0|0|0|0|0|0|8|9|4|6\u001b[0m\n",
      "\u001b[30m0|0|0|0|0|0|0|0|0|0|0|9|8|0|0\u001b[0m\n",
      "\u001b[30m0|0|0|0|0|0|0|0|0|0|0|0|0|2|1\u001b[0m\n",
      "\u001b[30m0|0|0|0|0|0|0|0|0|0|0|0|0|1|2\u001b[0m\n",
      "\u001b[30m0|0|0|0|0|0|0|0|0|0|0|0|0|0|0\u001b[0m\n",
      "\u001b[30m0|0|0|0|0|0|0|0|0|0|0|0|0|0|0\u001b[0m\n",
      "\u001b[30m0|0|0|0|0|0|0|0|0|0|0|0|0|0|0\u001b[0m\n",
      "\u001b[30m```\u001b[0m\n",
      "\u001b[30m\u001b[0m\n",
      "\u001b[30m## Example 2\u001b[0m\n",
      "\u001b[30m\u001b[0m\n",
      "\u001b[30m### Input\u001b[0m\n",
      "\u001b[30m\u001b[0m\n",
      "\u001b[30m```grid\u001b[0m\n",
      "\u001b[30m0|0|0|0|0|0|0|0|0|0|0|0|0|0|0\u001b[0m\n",
      "\u001b[30m0|0|9|2|0|0|0|0|0|0|0|0|0|0|0\u001b[0m\n",
      "\u001b[30m0|0|2|9|0|0|0|0|0|3|7|3|0|0|0\u001b[0m\n",
      "\u001b[30m0|0|0|0|0|0|0|0|0|7|3|7|0|0|0\u001b[0m\n",
      "\u001b[30m0|0|0|0|0|0|0|0|0|3|7|3|0|0|0\u001b[0m\n",
      "\u001b[30m0|0|0|0|0|0|0|0|0|0|0|0|0|0|0\u001b[0m\n",
      "\u001b[30m0|0|0|0|0|0|0|0|0|0|0|0|0|0|0\u001b[0m\n",
      "\u001b[30m0|0|0|0|0|6|8|6|0|0|0|0|0|0|0\u001b[0m\n",
      "\u001b[30m0|0|0|0|0|8|6|8|0|0|0|0|0|0|0\u001b[0m\n",
      "\u001b[30m0|0|0|0|0|6|8|6|0|0|0|8|5|0|0\u001b[0m\n",
      "\u001b[30m0|0|0|0|0|0|0|0|0|0|0|5|8|0|0\u001b[0m\n",
      "\u001b[30m0|0|0|0|0|0|0|0|0|0|0|0|0|0|0\u001b[0m\n",
      "\u001b[30m0|0|2|5|0|0|0|0|0|0|0|0|0|0|0\u001b[0m\n",
      "\u001b[30m0|0|5|2|0|0|0|0|0|0|0|0|0|0|0\u001b[0m\n",
      "\u001b[30m0|0|0|0|0|0|0|0|0|0|0|0|0|0|0\u001b[0m\n",
      "\u001b[30m```\u001b[0m\n",
      "\u001b[30m### Output\u001b[0m\n",
      "\u001b[30m\u001b[0m\n",
      "\u001b[30m```grid\u001b[0m\n",
      "\u001b[30m0|0|0|0|0|0|0|0|0|0|0|0|0|0|0\u001b[0m\n",
      "\u001b[30m0|0|0|0|0|0|0|0|0|0|9|2|0|0|0\u001b[0m\n",
      "\u001b[30m0|0|0|0|0|0|0|0|0|0|2|9|3|7|3\u001b[0m\n",
      "\u001b[30m0|0|0|0|0|0|0|0|0|0|0|0|7|3|7\u001b[0m\n",
      "\u001b[30m0|0|0|0|0|0|0|0|0|0|0|0|3|7|3\u001b[0m\n",
      "\u001b[30m0|0|0|0|0|0|0|0|0|0|0|0|0|0|0\u001b[0m\n",
      "\u001b[30m0|0|0|0|0|0|0|0|0|0|0|0|0|0|0\u001b[0m\n",
      "\u001b[30m0|0|0|0|0|0|0|0|0|0|6|8|6|0|0\u001b[0m\n",
      "\u001b[30m0|0|0|0|0|0|0|0|0|0|8|6|8|0|0\u001b[0m\n",
      "\u001b[30m0|0|0|0|0|0|0|0|0|0|6|8|6|8|5\u001b[0m\n",
      "\u001b[30m0|0|0|0|0|0|0|0|0|0|0|0|0|5|8\u001b[0m\n",
      "\u001b[30m0|0|0|0|0|0|0|0|0|0|0|0|0|0|0\u001b[0m\n",
      "\u001b[30m0|0|0|0|0|0|0|0|0|0|0|0|0|2|5\u001b[0m\n",
      "\u001b[30m0|0|0|0|0|0|0|0|0|0|0|0|0|5|2\u001b[0m\n",
      "\u001b[30m0|0|0|0|0|0|0|0|0|0|0|0|0|0|0\u001b[0m\n",
      "\u001b[30m```\u001b[0m\n",
      "\u001b[30m\u001b[0m\n",
      "\u001b[30m## Test case\u001b[0m\n",
      "\u001b[30m\u001b[0m\n",
      "\u001b[30m### Input\u001b[0m\n",
      "\u001b[30m\u001b[0m\n",
      "\u001b[30m```grid\u001b[0m\n",
      "\u001b[30m0|0|0|6|8|6|0|0|0|0|0|0|0|0|0\u001b[0m\n",
      "\u001b[30m0|0|0|8|6|8|0|0|0|0|0|0|0|0|0\u001b[0m\n",
      "\u001b[30m0|0|0|6|8|6|0|2|5|2|5|2|0|0|0\u001b[0m\n",
      "\u001b[30m0|0|0|0|0|0|0|5|2|5|2|5|0|0|0\u001b[0m\n",
      "\u001b[30m0|0|0|0|0|0|0|2|5|2|5|2|0|0|0\u001b[0m\n",
      "\u001b[30m0|0|2|1|0|0|0|5|2|5|2|5|0|0|0\u001b[0m\n",
      "\u001b[30m0|0|1|2|0|0|0|2|5|2|5|2|0|0|0\u001b[0m\n",
      "\u001b[30m0|0|0|0|0|0|0|0|0|0|0|0|0|0|0\u001b[0m\n",
      "\u001b[30m0|0|0|0|0|0|0|0|0|0|0|0|0|0|0\u001b[0m\n",
      "\u001b[30m0|3|5|0|0|0|0|0|0|0|0|0|0|0|0\u001b[0m\n",
      "\u001b[30m0|5|3|0|0|0|0|8|4|8|0|0|0|0|0\u001b[0m\n",
      "\u001b[30m0|0|0|0|0|0|0|4|8|4|0|0|0|0|0\u001b[0m\n",
      "\u001b[30m0|0|0|0|0|0|0|8|4|8|0|0|0|0|0\u001b[0m\n",
      "\u001b[30m0|0|1|7|0|0|0|0|0|0|0|0|0|0|0\u001b[0m\n",
      "\u001b[30m0|0|7|1|0|0|0|0|0|0|0|0|0|0|0\u001b[0m\n",
      "\u001b[30m```\u001b[0m\n",
      "\u001b[1m\u001b[30m<|im_end|>\u001b[0m\n",
      "\u001b[1m\u001b[34m<|im_start|>assistant\u001b[0m\n",
      "\u001b[34m### Output\u001b[0m\n",
      "\u001b[34m\u001b[0m\n",
      "\u001b[34m```grid\u001b[0m\n",
      "\u001b[34m0|0|0|0|0|0|0|6|8|6|0|0|0|0|0\u001b[0m\n",
      "\u001b[34m0|0|0|0|0|0|0|8|6|8|0|0|0|0|0\u001b[0m\n",
      "\u001b[34m0|0|0|0|0|0|0|6|8|6|2|5|2|5|2\u001b[0m\n",
      "\u001b[34m0|0|0|0|0|0|0|0|0|0|5|2|5|2|5\u001b[0m\n",
      "\u001b[34m0|0|0|0|0|0|0|0|0|0|2|5|2|5|2\u001b[0m\n",
      "\u001b[34m0|0|0|0|0|0|0|0|2|1|5|2|5|2|5\u001b[0m\n",
      "\u001b[34m0|0|0|0|0|0|0|0|1|2|2|5|2|5|2\u001b[0m\n",
      "\u001b[34m0|0|0|0|0|0|0|0|0|0|0|0|0|0|0\u001b[0m\n",
      "\u001b[34m0|0|0|0|0|0|0|0|0|0|0|0|0|0|0\u001b[0m\n",
      "\u001b[34m0|0|0|0|0|0|0|0|0|0|3|5|0|0|0\u001b[0m\n",
      "\u001b[34m0|0|0|0|0|0|0|0|0|0|5|3|8|4|8\u001b[0m\n",
      "\u001b[34m0|0|0|0|0|0|0|0|0|0|0|0|4|8|4\u001b[0m\n",
      "\u001b[34m0|0|0|0|0|0|0|0|0|0|0|0|8|4|8\u001b[0m\n",
      "\u001b[34m0|0|0|0|0|0|0|0|0|0|0|0|0|1|7\u001b[0m\n",
      "\u001b[34m0|0|0|0|0|0|0|0|0|0|0|0|0|7|1\u001b[0m\n",
      "\u001b[34m```\u001b[0m\n",
      "\u001b[1m\u001b[34m<|im_end|>\u001b[0m\n",
      "--------------------------------------------------------------------------------\n"
     ]
    },
    {
     "data": {
      "application/vnd.jupyter.widget-view+json": {
       "model_id": "3e234b63b9c14b5ba1974abbee96acad",
       "version_major": 2,
       "version_minor": 0
      },
      "text/plain": [
       "Calculating prompt lengths:   0%|          | 0/419 [00:00<?, ?it/s]"
      ]
     },
     "metadata": {},
     "output_type": "display_data"
    },
    {
     "data": {
      "image/png": "[encoded data removed]",
      "text/plain": [
       "<Figure size 640x480 with 1 Axes>"
      ]
     },
     "metadata": {},
     "output_type": "display_data"
    },
    {
     "name": "stdout",
     "output_type": "stream",
     "text": [
      "Leaving 284 prompts after removing those longer than 4096 tokens\n"
     ]
    }
   ],
   "source": [
    "val_dataset = create_dataset(cfg.val_dataset, grid_encoder, use_data_augmentation=False)"
   ]
  },
  {
   "cell_type": "code",
   "execution_count": 21,
   "metadata": {},
   "outputs": [],
   "source": [
    "if cfg.adapter_path is None:\n",
    "    peft_config = LoraConfig(\n",
    "        # lora_alpha: LoRA scaling factor.\n",
    "        lora_alpha=64, #64,\n",
    "        lora_dropout=0.1, # 0.1, althought Vaca suggested to use 0.05 for big models\n",
    "        # r: the rank of the update matrices, expressed in int. Lower rank results in smaller update matrices with fewer trainable parameters.\n",
    "        r=cfg.lora_r, #16\n",
    "        bias=\"none\",\n",
    "        task_type=\"CAUSAL_LM\",\n",
    "        # target_modules: The modules (for example, attention blocks) to apply the LoRA update matrices.\n",
    "        target_modules= ['k_proj', 'q_proj', 'v_proj', 'o_proj'],\n",
    "        use_rslora=cfg.use_rslora,\n",
    "        use_dora=cfg.use_dora,\n",
    "    )\n",
    "else:\n",
    "    print(f'Loading adapter from {cfg.adapter_path}')\n",
    "    peft_config = None\n",
    "    model = PeftModel.from_pretrained(model, cfg.adapter_path, is_trainable=True)"
   ]
  },
  {
   "cell_type": "code",
   "execution_count": 22,
   "metadata": {},
   "outputs": [
    {
     "name": "stdout",
     "output_type": "stream",
     "text": [
      "inside qwen\n"
     ]
    },
    {
     "name": "stderr",
     "output_type": "stream",
     "text": [
      "/home/zeus/miniconda3/envs/cloudspace/lib/python3.10/site-packages/transformers/training_args.py:1568: FutureWarning: `evaluation_strategy` is deprecated and will be removed in version 4.46 of 🤗 Transformers. Use `eval_strategy` instead\n",
      "  warnings.warn(\n"
     ]
    }
   ],
   "source": [
    "if 'qwen' in cfg.model_path.lower():\n",
    "    print(\"inside qwen\")\n",
    "    batch_size_kwargs = dict(\n",
    "        per_device_train_batch_size=1, # 4-16 should be fine for lora.\n",
    "        gradient_accumulation_steps=5,\n",
    "        per_device_eval_batch_size=1,\n",
    "    )\n",
    "else:\n",
    "    batch_size_kwargs = dict(\n",
    "        per_device_train_batch_size=1, # 4-16 should be fine for lora.\n",
    "        gradient_accumulation_steps=16,\n",
    "        per_device_eval_batch_size=2,\n",
    "    )\n",
    "\n",
    "training_arguments = TrainingArguments(\n",
    "        output_dir=cfg.output_dir,\n",
    "        num_train_epochs=cfg.epochs,\n",
    "        max_steps=cfg.max_steps,\n",
    "        warmup_ratio=cfg.warmup_ratio,\n",
    "        learning_rate=cfg.learning_rate,\n",
    "        lr_scheduler_type=\"linear\",\n",
    "        optim=\"paged_adamw_8bit\",\n",
    "\n",
    "        do_eval=True,\n",
    "        evaluation_strategy=\"steps\",\n",
    "        save_steps=cfg.eval_steps,\n",
    "        logging_steps=10, #50,\n",
    "        eval_steps=cfg.eval_steps,\n",
    "        log_level=\"debug\",\n",
    "\n",
    "        **batch_size_kwargs\n",
    ")"
   ]
  },
  {
   "cell_type": "code",
   "execution_count": 23,
   "metadata": {},
   "outputs": [],
   "source": [
    "if 'qwen' in cfg.model_path.lower():\n",
    "    data_collator = data_collator = DataCollatorForCompletionOnlyLM(\n",
    "            tokenizer=tokenizer,\n",
    "            instruction_template='<|im_start|>user',\n",
    "            response_template='<|im_start|>assistant',\n",
    "        )\n",
    "else:\n",
    "    data_collator = DataCollatorForCompletionOnlyLM(\n",
    "        tokenizer=tokenizer,\n",
    "        instruction_template='<|user|>',\n",
    "        response_template='<|assistant|>'\n",
    "    )"
   ]
  },
  {
   "cell_type": "code",
   "execution_count": 25,
   "metadata": {},
   "outputs": [
    {
     "name": "stderr",
     "output_type": "stream",
     "text": [
      "/home/zeus/miniconda3/envs/cloudspace/lib/python3.10/site-packages/huggingface_hub/utils/_deprecation.py:100: FutureWarning: Deprecated argument(s) used in '__init__': dataset_text_field, max_seq_length. Will not be supported from version '0.13.0'.\n",
      "\n",
      "Deprecated positional argument(s) used in SFTTrainer, please use the SFTConfig to set these arguments instead.\n",
      "  warnings.warn(message, FutureWarning)\n",
      "/home/zeus/miniconda3/envs/cloudspace/lib/python3.10/site-packages/transformers/training_args.py:1568: FutureWarning: `evaluation_strategy` is deprecated and will be removed in version 4.46 of 🤗 Transformers. Use `eval_strategy` instead\n",
      "  warnings.warn(\n",
      "PyTorch: setting up devices\n",
      "loading file vocab.json\n",
      "loading file merges.txt\n",
      "loading file tokenizer.json\n",
      "loading file added_tokens.json\n",
      "loading file special_tokens_map.json\n",
      "loading file tokenizer_config.json\n",
      "Special tokens have been added in the vocabulary, make sure the associated word embeddings are fine-tuned or trained.\n",
      "/home/zeus/miniconda3/envs/cloudspace/lib/python3.10/site-packages/trl/trainer/sft_trainer.py:300: UserWarning: You passed a `max_seq_length` argument to the SFTTrainer, the value you passed will override the one in the `SFTConfig`.\n",
      "  warnings.warn(\n",
      "/home/zeus/miniconda3/envs/cloudspace/lib/python3.10/site-packages/trl/trainer/sft_trainer.py:328: UserWarning: You passed a `dataset_text_field` argument to the SFTTrainer, the value you passed will override the one in the `SFTConfig`.\n",
      "  warnings.warn(\n"
     ]
    },
    {
     "data": {
      "application/vnd.jupyter.widget-view+json": {
       "model_id": "99c5b8298f084d77a6df26cb05894447",
       "version_major": 2,
       "version_minor": 0
      },
      "text/plain": [
       "Map:   0%|          | 0/6908 [00:00<?, ? examples/s]"
      ]
     },
     "metadata": {},
     "output_type": "display_data"
    },
    {
     "data": {
      "application/vnd.jupyter.widget-view+json": {
       "model_id": "489e71bc07484a4cbf6533bc85165691",
       "version_major": 2,
       "version_minor": 0
      },
      "text/plain": [
       "Map:   0%|          | 0/284 [00:00<?, ? examples/s]"
      ]
     },
     "metadata": {},
     "output_type": "display_data"
    },
    {
     "name": "stderr",
     "output_type": "stream",
     "text": [
      "max_steps is given, it will override any value given in num_train_epochs\n",
      "Currently training with a batch size of: 1\n",
      "***** Running training *****\n",
      "  Num examples = 6,908\n",
      "  Num Epochs = 73\n",
      "  Instantaneous batch size per device = 1\n",
      "  Total train batch size (w. parallel, distributed & accumulation) = 5\n",
      "  Gradient Accumulation steps = 5\n",
      "  Total optimization steps = 100,000\n",
      "  Number of trainable parameters = 4,374,528\n"
     ]
    }
   ],
   "source": [
    "trainer = SFTTrainer(\n",
    "    model=model,\n",
    "    train_dataset=train_dataset,\n",
    "    eval_dataset=val_dataset,\n",
    "    peft_config=peft_config,\n",
    "    dataset_text_field=\"text\",\n",
    "    max_seq_length=cfg.max_seq_len,\n",
    "    data_collator=data_collator,\n",
    "    args=training_arguments,\n",
    "    # packing=True, # ValueError: You passed a `DataCollatorForCompletionOnlyLM` to the SFTTrainer. This is not compatible with the `packing` argument.\n",
    ")\n",
    "try:\n",
    "    trainer.train()\n",
    "except:\n",
    "    torch.cuda.empty_cache()"
   ]
  },
  {
   "cell_type": "code",
   "execution_count": null,
   "metadata": {},
   "outputs": [],
   "source": []
  }
 ],
 "metadata": {
  "language_info": {
   "name": "python"
  }
 },
 "nbformat": 4,
 "nbformat_minor": 2
}
